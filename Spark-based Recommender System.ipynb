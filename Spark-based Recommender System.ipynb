{
 "cells": [
  {
   "cell_type": "markdown",
   "metadata": {},
   "source": [
    "### System settings verification"
   ]
  },
  {
   "cell_type": "code",
   "execution_count": 6,
   "metadata": {},
   "outputs": [
    {
     "data": {
      "text/plain": [
       "'3.6.5 | packaged by conda-forge | (default, Apr  6 2018, 13:44:09) \\n[GCC 4.2.1 Compatible Apple LLVM 6.1.0 (clang-602.0.53)]'"
      ]
     },
     "execution_count": 6,
     "metadata": {},
     "output_type": "execute_result"
    }
   ],
   "source": [
    "import sys\n",
    "sys.version"
   ]
  },
  {
   "cell_type": "code",
   "execution_count": 7,
   "metadata": {},
   "outputs": [
    {
     "name": "stdout",
     "output_type": "stream",
     "text": [
      "/Users/harjeet/DevEnv/miniconda3/bin/python\n",
      "\n",
      "java 10.0.1 2018-04-17\n",
      "Java(TM) SE Runtime Environment 18.3 (build 10.0.1+10)\n",
      "Java HotSpot(TM) 64-Bit Server VM 18.3 (build 10.0.1+10, mixed mode)\n"
     ]
    }
   ],
   "source": [
    "!which python\n",
    "!echo $PYTHONPATH\n",
    "!java --version"
   ]
  },
  {
   "cell_type": "markdown",
   "metadata": {},
   "source": [
    "# Creating a Spark Context"
   ]
  },
  {
   "cell_type": "code",
   "execution_count": 8,
   "metadata": {},
   "outputs": [],
   "source": [
    "from pyspark.sql import DataFrameReader, SparkSession\n",
    "from pyspark.ml.evaluation import RegressionEvaluator\n",
    "from pyspark.ml.recommendation import ALS\n",
    "from pyspark.sql import Row"
   ]
  },
  {
   "cell_type": "code",
   "execution_count": 9,
   "metadata": {},
   "outputs": [],
   "source": [
    "spark = SparkSession\\\n",
    "    .builder\\\n",
    "    .config(\"master\",\"local[*]\")\\\n",
    "    .appName(\"LastFM\")\\\n",
    "    .getOrCreate()"
   ]
  },
  {
   "cell_type": "code",
   "execution_count": 10,
   "metadata": {},
   "outputs": [
    {
     "data": {
      "text/plain": [
       "[('spark.driver.host', '172.16.10.66'),\n",
       " ('master', 'local[*]'),\n",
       " ('spark.driver.port', '62331'),\n",
       " ('spark.rdd.compress', 'True'),\n",
       " ('spark.app.id', 'local-1526486605072'),\n",
       " ('spark.serializer.objectStreamReset', '100'),\n",
       " ('spark.master', 'local[*]'),\n",
       " ('spark.executor.id', 'driver'),\n",
       " ('spark.submit.deployMode', 'client'),\n",
       " ('spark.ui.showConsoleProgress', 'true'),\n",
       " ('spark.app.name', 'LastFM')]"
      ]
     },
     "execution_count": 10,
     "metadata": {},
     "output_type": "execute_result"
    }
   ],
   "source": [
    "spark.sparkContext._conf.getAll()"
   ]
  },
  {
   "cell_type": "markdown",
   "metadata": {},
   "source": [
    "# Getting the data\n",
    "Here's the [README](http://files.grouplens.org/datasets/hetrec2011/hetrec2011-lastfm-readme.txt) for a description.\n",
    "Briefly:\n",
    "- 92834 \"scrobbles\" (play counts) per user of an artist\n",
    "- 1892 users\n",
    "- 17632 artists\n",
    "- density/sparsity of the data: 0.28%"
   ]
  },
  {
   "cell_type": "code",
   "execution_count": 11,
   "metadata": {},
   "outputs": [
    {
     "data": {
      "text/plain": [
       "'hetrec2011-lastfm-2k.zip'"
      ]
     },
     "execution_count": 11,
     "metadata": {},
     "output_type": "execute_result"
    }
   ],
   "source": [
    "import os\n",
    "import wget\n",
    "url = 'http://files.grouplens.org/datasets/hetrec2011/hetrec2011-lastfm-2k.zip'\n",
    "filename = wget.download(url)\n",
    "filename"
   ]
  },
  {
   "cell_type": "code",
   "execution_count": 12,
   "metadata": {},
   "outputs": [
    {
     "name": "stdout",
     "output_type": "stream",
     "text": [
      "artists.dat                       user_friends.dat\r\n",
      "readme.txt                        user_taggedartists-timestamps.dat\r\n",
      "tags.dat                          user_taggedartists.dat\r\n",
      "user_artists.dat\r\n"
     ]
    }
   ],
   "source": [
    "import zipfile\n",
    "with zipfile.ZipFile(filename,\"r\") as zip_ref:\n",
    "    zip_ref.extractall(\"./data\")\n",
    "!ls ./data"
   ]
  },
  {
   "cell_type": "code",
   "execution_count": 15,
   "metadata": {},
   "outputs": [
    {
     "data": {
      "text/plain": [
       "['user_friends.dat',\n",
       " 'user_taggedartists-timestamps.dat',\n",
       " 'artists.dat',\n",
       " 'tags.dat',\n",
       " 'user_taggedartists.dat',\n",
       " 'user_artists.dat']"
      ]
     },
     "execution_count": 15,
     "metadata": {},
     "output_type": "execute_result"
    }
   ],
   "source": [
    "import glob\n",
    "files_to_process = [os.path.relpath(dat_path, './data') for dat_path in glob.glob('./data/*.dat')]\n",
    "files_to_process"
   ]
  },
  {
   "cell_type": "code",
   "execution_count": null,
   "metadata": {},
   "outputs": [],
   "source": [
    "# Work in progress\n",
    "def read_dats(filename):\n",
    "    df  = spark.read(filename)"
   ]
  },
  {
   "cell_type": "code",
   "execution_count": null,
   "metadata": {},
   "outputs": [],
   "source": [
    "dist_files_to_process = sc.parallelize(files_to_process)\n",
    "processed = dist_files_to_process.map(lambda file: read_dats(file))\n",
    "collected = processed.collect()"
   ]
  }
 ],
 "metadata": {
  "kernelspec": {
   "display_name": "Python 3",
   "language": "python",
   "name": "python3"
  },
  "language_info": {
   "codemirror_mode": {
    "name": "ipython",
    "version": 3
   },
   "file_extension": ".py",
   "mimetype": "text/x-python",
   "name": "python",
   "nbconvert_exporter": "python",
   "pygments_lexer": "ipython3",
   "version": "3.6.5"
  }
 },
 "nbformat": 4,
 "nbformat_minor": 2
}
